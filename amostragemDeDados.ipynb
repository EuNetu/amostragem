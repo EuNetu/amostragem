{
  "nbformat": 4,
  "nbformat_minor": 0,
  "metadata": {
    "colab": {
      "provenance": [],
      "collapsed_sections": [],
      "authorship_tag": "ABX9TyPLN3JxtVIMt/Ygb21b1CKg"
    },
    "kernelspec": {
      "name": "python3",
      "display_name": "Python 3"
    },
    "language_info": {
      "name": "python"
    }
  },
  "cells": [
    {
      "cell_type": "code",
      "execution_count": 2,
      "metadata": {
        "id": "yGvN8O2Jm37i"
      },
      "outputs": [],
      "source": [
        "import matplotlib.pyplot as plt\n",
        "import seaborn as sns\n",
        "import random\n",
        "import pandas as pd\n",
        "import numpy as np\n",
        "from google.colab import drive"
      ]
    },
    {
      "cell_type": "code",
      "source": [
        "%cd /content/drive/MyDrive/ColabNotebooks"
      ],
      "metadata": {
        "colab": {
          "base_uri": "https://localhost:8080/"
        },
        "id": "r65XuKhWpkXl",
        "outputId": "5bd49747-17d3-4ec1-f462-dae4ffc3a3e7"
      },
      "execution_count": 3,
      "outputs": [
        {
          "output_type": "stream",
          "name": "stdout",
          "text": [
            "Mounted at /content/drive\n"
          ]
        }
      ]
    },
    {
      "cell_type": "code",
      "source": [
        "%cd /content/drive/Meu Drive/Colab Notebooks"
      ],
      "metadata": {
        "id": "4hE-6Bo3qhKd"
      },
      "execution_count": null,
      "outputs": []
    },
    {
      "cell_type": "code",
      "source": [
        "BaseDados = pd.read_csv('INFLUD22.csv')"
      ],
      "metadata": {
        "id": "eueQDHHZnNH8"
      },
      "execution_count": null,
      "outputs": []
    },
    {
      "cell_type": "code",
      "source": [
        "valoresBase = len(BaseDados.sample(random.randint(50, 100)))"
      ],
      "metadata": {
        "id": "3D0ZydeAoNCF"
      },
      "execution_count": null,
      "outputs": []
    },
    {
      "cell_type": "code",
      "source": [
        "amostra_sistematica = BaseDados.iloc[::1500]\n",
        "valoresBase = len(amostra_sistematica)"
      ],
      "metadata": {
        "id": "6WOunSy2n1Iz"
      },
      "execution_count": null,
      "outputs": []
    },
    {
      "cell_type": "code",
      "source": [
        "amostra_estratificada = BaseDados.groupby('municipio', group_keys=False).apply(lambda x: x.sample(frac=0.6))\n",
        "valoresBase = len(amostra_estratificada)"
      ],
      "metadata": {
        "id": "w24l2QFPrHx0"
      },
      "execution_count": null,
      "outputs": []
    },
    {
      "cell_type": "code",
      "source": [
        "amostra_conglomerada = BaseDados.sample(200).sort_values(by='municipio')\n",
        "valoresBase = len(amostra_conglomerada)"
      ],
      "metadata": {
        "id": "pQBvuN2crOej"
      },
      "execution_count": null,
      "outputs": []
    },
    {
      "cell_type": "code",
      "source": [
        "Z = 2.58 # Escore Z\n",
        "e = 0.05 # margem de erro\n",
        "P = 0.5 # desvio padrão"
      ],
      "metadata": {
        "id": "M04spJxCrYOb"
      },
      "execution_count": null,
      "outputs": []
    },
    {
      "cell_type": "code",
      "source": [
        "calc_1 = ((Z ** 2) * (P * (1 - P)) / (e ** 2))\n",
        "calc_2 = 1 + (((Z ** 2) * (P * (1 - P))) / ((e ** 2) * valor))\n",
        "tamanho_amostra_simples = calc_1 / calc_2"
      ],
      "metadata": {
        "id": "ODbvEvUQrY3a"
      },
      "execution_count": null,
      "outputs": []
    }
  ]
}